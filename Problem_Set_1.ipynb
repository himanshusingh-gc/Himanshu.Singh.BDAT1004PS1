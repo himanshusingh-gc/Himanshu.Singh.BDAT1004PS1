{
 "cells": [
  {
   "cell_type": "markdown",
   "metadata": {},
   "source": [
    "### Question 1  Data types"
   ]
  },
  {
   "cell_type": "code",
   "execution_count": 5,
   "metadata": {},
   "outputs": [],
   "source": [
    "import math"
   ]
  },
  {
   "cell_type": "code",
   "execution_count": 11,
   "metadata": {},
   "outputs": [
    {
     "name": "stdout",
     "output_type": "stream",
     "text": [
      "Type of 5 is -> <class 'int'>\n",
      "Type of 5.0 is -> <class 'float'>\n",
      "Type of 5 > 1 is -> <class 'bool'>\n",
      "Type of '5' is -> <class 'str'>\n",
      "Type of 5 * 2 is -> <class 'int'>\n",
      "Type of '5' * 2 is -> <class 'str'>\n",
      "Type of '5' + '2' is -> <class 'str'>\n",
      "Type of 5 / 2 is -> <class 'float'>\n",
      "Type of 5 // 2  is -> <class 'int'>\n",
      "Type of [5, 2, 1] is -> <class 'list'>\n",
      "Type of 5 in [1, 4, 6] is -> <class 'bool'>\n",
      "Type of math.pi is -> <class 'float'>\n"
     ]
    }
   ],
   "source": [
    "print('Type of 5 is ->', type(5))\n",
    "print('Type of 5.0 is ->', type(5.0))\n",
    "print('Type of 5 > 1 is ->', type(5 > 1))\n",
    "print('Type of \\'5\\' is ->', type('5'))\n",
    "print('Type of 5 * 2 is ->', type(5 * 2))\n",
    "print('Type of \\'5\\' * 2 is ->', type('5' * 2))\n",
    "print('Type of \\'5\\' + \\'2\\' is ->', type('5' + '2'))\n",
    "print('Type of 5 / 2 is ->', type(5 / 2))\n",
    "print('Type of 5 // 2  is ->', type(5 // 2))\n",
    "print('Type of [5, 2, 1] is ->', type([5,2,1]))\n",
    "print('Type of 5 in [1, 4, 6] is ->', type(5 in [1, 4, 6]))\n",
    "print('Type of math.pi is ->', type(math.pi))"
   ]
  },
  {
   "cell_type": "markdown",
   "metadata": {},
   "source": [
    "---"
   ]
  },
  {
   "cell_type": "markdown",
   "metadata": {},
   "source": [
    "### Question 2 - String Operations"
   ]
  },
  {
   "cell_type": "code",
   "execution_count": 18,
   "metadata": {},
   "outputs": [
    {
     "name": "stdout",
     "output_type": "stream",
     "text": [
      "Supercalifragilisticexpialidocious has 34 letters\n"
     ]
    }
   ],
   "source": [
    "# a. How many letters are there in 'Supercalifragilisticexpialidocious'?\n",
    "\n",
    "print(\"Supercalifragilisticexpialidocious has {} letters\".format(len('Supercalifragilisticexpialidocious')))  # a"
   ]
  },
  {
   "cell_type": "code",
   "execution_count": 17,
   "metadata": {},
   "outputs": [
    {
     "name": "stdout",
     "output_type": "stream",
     "text": [
      "Answer -  True\n"
     ]
    }
   ],
   "source": [
    "# b. Does 'Supercalifragilisticexpialidocious' contain 'ice' as a substring?\n",
    "\n",
    "print(\"Answer - \", 'ice' in 'Supercalifragilisticexpialidocious')"
   ]
  },
  {
   "cell_type": "code",
   "execution_count": 23,
   "metadata": {},
   "outputs": [
    {
     "name": "stdout",
     "output_type": "stream",
     "text": [
      "First Longest word found is ->  Supercalifragilisticexpialidocious\n"
     ]
    }
   ],
   "source": [
    "# c. Which of the following words is the longest: Supercalifragilisticexpialidocious, Honorificabilitudinitatibus, or Bababadalgharaghtakamminarronnkonn?\n",
    "# assuming to return the first longest word found if there are multiple words with longest length. \n",
    "\n",
    "words = [\"Supercalifragilisticexpialidocious\", \"Honorificabilitudinitatibus\", \"Bababadalgharaghtakamminarronnkonn\"]\n",
    "max_len = 0\n",
    "longest_word = \"\"\n",
    "for word in words:\n",
    "    l = len(word)\n",
    "    if l > max_len:\n",
    "        max_len = l\n",
    "        longest_word = word\n",
    "        \n",
    "print(\"First Longest word found is -> \", longest_word)"
   ]
  },
  {
   "cell_type": "code",
   "execution_count": 20,
   "metadata": {},
   "outputs": [
    {
     "name": "stdout",
     "output_type": "stream",
     "text": [
      "First composer in dictonary ->  Bartok\n",
      "Last composer in dictionary ->  Buxtehude\n"
     ]
    }
   ],
   "source": [
    "# d. Which composer comes first in the dictionary: 'Berlioz', 'Borodin', 'Brian', 'Bartok', 'Bellini', 'Buxtehude', 'Bernstein'. Which one comes last?\n",
    "\n",
    "words = ['Berlioz', 'Borodin', 'Brian', 'Bartok', 'Bellini', 'Buxtehude', 'Bernstein']\n",
    "words.sort()\n",
    "print(\"First composer in dictonary -> \", words[0])\n",
    "print(\"Last composer in dictionary -> \", words[-1])"
   ]
  },
  {
   "cell_type": "markdown",
   "metadata": {},
   "source": [
    "---"
   ]
  },
  {
   "cell_type": "markdown",
   "metadata": {},
   "source": [
    "### Question 3 Rectangle"
   ]
  },
  {
   "cell_type": "code",
   "execution_count": 24,
   "metadata": {},
   "outputs": [],
   "source": [
    "# a. Write a function inside(x,y,x1,y1,x2,y2) that returns True or False depending on whether the point (x,y) lies in the rectangle with lower left corner (x1,y1) and upper right corner (x2,y2).\n",
    "\n",
    "def inside(x, y, x1,y1,x2,y2):\n",
    "    if x1 <= x <= x2 and y1 <= y <= y2:               # assuming it return True for boundary points also\n",
    "        return True\n",
    "    return False"
   ]
  },
  {
   "cell_type": "code",
   "execution_count": 26,
   "metadata": {},
   "outputs": [
    {
     "name": "stdout",
     "output_type": "stream",
     "text": [
      "True\n",
      "False\n"
     ]
    }
   ],
   "source": [
    "print(inside(1,1,0,0,2,3))\n",
    "print(inside(-1,-1, 0,0, 2,3))"
   ]
  },
  {
   "cell_type": "code",
   "execution_count": 27,
   "metadata": {},
   "outputs": [
    {
     "data": {
      "text/plain": [
       "False"
      ]
     },
     "execution_count": 27,
     "metadata": {},
     "output_type": "execute_result"
    }
   ],
   "source": [
    "# b. Use function inside() from part a. to write an expression that tests whether the point (1,1) lies in both of the following rectangles: one with lower left corner (0.3, 0.5) and upper right corner (1.1, 0.7) and the other with lower left corner (0.5, 0.2) and upper right corner (1.1, 2).\n",
    "\n",
    "inside(1,1,0.3, 0.5, 1.1, 0.7) and inside(1,1,0.5, 0.2, 1.1, 2)"
   ]
  },
  {
   "cell_type": "markdown",
   "metadata": {},
   "source": [
    "---"
   ]
  },
  {
   "cell_type": "markdown",
   "metadata": {},
   "source": [
    "### Question 4 -  pig-Latin"
   ]
  },
  {
   "cell_type": "code",
   "execution_count": 29,
   "metadata": {},
   "outputs": [],
   "source": [
    "def pig(word):\n",
    "    vowels = ['a', 'e', 'i', 'o', 'u']\n",
    "    pig_latin = \"\"\n",
    "    if len(word) > 0:\n",
    "        word = word.lower()\n",
    "        if str(word[0]) in vowels:\n",
    "            pig_latin = word + \"way\"\n",
    "        else:\n",
    "            pig_latin = word[1:] + word[0] + \"ay\"\n",
    "\n",
    "    return pig_latin"
   ]
  },
  {
   "cell_type": "code",
   "execution_count": 34,
   "metadata": {},
   "outputs": [
    {
     "name": "stdout",
     "output_type": "stream",
     "text": [
      "pig-Latin of happy - appyhay\n",
      "pig-Latin of enter -  enterway\n"
     ]
    }
   ],
   "source": [
    "print(\"pig-Latin of happy -\", pig(\"happy\"))\n",
    "print(\"pig-Latin of enter - \", pig(\"enter\"))"
   ]
  },
  {
   "cell_type": "markdown",
   "metadata": {},
   "source": [
    "---"
   ]
  },
  {
   "cell_type": "markdown",
   "metadata": {},
   "source": [
    "### Question 5 - Blood Count"
   ]
  },
  {
   "cell_type": "code",
   "execution_count": 35,
   "metadata": {},
   "outputs": [],
   "source": [
    "def bldcount(file_path):\n",
    "    blood_types = ['A', 'B', 'AB', 'O', 'OO']\n",
    "    \n",
    "    # read file\n",
    "    bld_count_file = open(file_path, 'r')\n",
    "    bld_count_arr = bld_count_file.read().split()\n",
    "    bld_count_file.close()\n",
    "\n",
    "    # bld_count_map stores count for each blood type\n",
    "    bld_count_map = {}\n",
    "\n",
    "    # count blood types\n",
    "    for bld_type in bld_count_arr:\n",
    "        if bld_type in bld_count_map:\n",
    "            bld_count_map[bld_type] += 1\n",
    "        else:\n",
    "            bld_count_map[bld_type] = 1\n",
    "\n",
    "    \n",
    "    # output summary\n",
    "    for bld_type in blood_types:\n",
    "        if bld_type in bld_count_map:\n",
    "            if bld_count_map[bld_type] == 1:\n",
    "                print(\"There is one patient of blood type {}\".format(bld_type))\n",
    "                continue\n",
    "\n",
    "            print(\"There are {} patients of blood type {}\".format(bld_count_map[bld_type], bld_type))\n",
    "        else:\n",
    "            print(\"There are no patients of blood type {}\".format(bld_type))\n"
   ]
  },
  {
   "cell_type": "code",
   "execution_count": 36,
   "metadata": {},
   "outputs": [
    {
     "name": "stdout",
     "output_type": "stream",
     "text": [
      "There are 15 patients of blood type A\n",
      "There is one patient of blood type B\n",
      "There are 13 patients of blood type AB\n",
      "There are 15 patients of blood type O\n",
      "There are no patients of blood type OO\n"
     ]
    }
   ],
   "source": [
    "bldcount('bloodtype1.txt')"
   ]
  },
  {
   "cell_type": "markdown",
   "metadata": {},
   "source": [
    "---"
   ]
  },
  {
   "cell_type": "markdown",
   "metadata": {},
   "source": [
    "### Question 6 - Currency Conversion"
   ]
  },
  {
   "cell_type": "code",
   "execution_count": 63,
   "metadata": {},
   "outputs": [],
   "source": [
    "def currency_map(file_path):\n",
    "    \"\"\"\n",
    "    Reads US Dollars conversion rates into other currencies\n",
    "    :param file_path: location of file have conversion rates\n",
    "    :return: currency rate map\n",
    "    \"\"\"\n",
    "    curr_file = open(file_path, 'r')\n",
    "    curr_rate_map = {}\n",
    "    for curr in curr_file.readlines():\n",
    "        curr_arr = curr.split('\\t')\n",
    "        curr_rate_map[curr_arr[0]] = float(curr_arr[1])\n",
    "\n",
    "    curr_file.close()\n",
    "    return curr_rate_map\n",
    "\n",
    "\n",
    "def curconv(currency, amount):\n",
    "    \"\"\"\n",
    "    Converts and returns given currency into US Dollars\n",
    "    :param currency: currency to be converted from\n",
    "    :param amount: amount to be converted\n",
    "    :return: US Dollars\n",
    "    \"\"\"\n",
    "\n",
    "    curr_map = currency_map('currencies.txt')\n",
    "\n",
    "    if currency in curr_map:\n",
    "        return amount * curr_map[currency]\n",
    "    else:\n",
    "        return None"
   ]
  },
  {
   "cell_type": "code",
   "execution_count": 38,
   "metadata": {},
   "outputs": [
    {
     "data": {
      "text/plain": [
       "122.96544"
      ]
     },
     "execution_count": 38,
     "metadata": {},
     "output_type": "execute_result"
    }
   ],
   "source": [
    "curconv('EUR', 100)"
   ]
  },
  {
   "cell_type": "code",
   "execution_count": 39,
   "metadata": {},
   "outputs": [
    {
     "data": {
      "text/plain": [
       "1.241401"
      ]
     },
     "execution_count": 39,
     "metadata": {},
     "output_type": "execute_result"
    }
   ],
   "source": [
    "curconv('JPY', 100)"
   ]
  },
  {
   "cell_type": "markdown",
   "metadata": {},
   "source": [
    "---"
   ]
  },
  {
   "cell_type": "markdown",
   "metadata": {},
   "source": [
    "### Question 7 - Exceptions"
   ]
  },
  {
   "cell_type": "code",
   "execution_count": 40,
   "metadata": {},
   "outputs": [
    {
     "ename": "TypeError",
     "evalue": "unsupported operand type(s) for +: 'int' and 'str'",
     "output_type": "error",
     "traceback": [
      "\u001b[0;31m---------------------------------------------------------------------------\u001b[0m",
      "\u001b[0;31mTypeError\u001b[0m                                 Traceback (most recent call last)",
      "\u001b[0;32m<ipython-input-40-63a7ed804344>\u001b[0m in \u001b[0;36m<module>\u001b[0;34m\u001b[0m\n\u001b[0;32m----> 1\u001b[0;31m \u001b[0;36m6\u001b[0m \u001b[0;34m+\u001b[0m \u001b[0;34m'a'\u001b[0m\u001b[0;34m\u001b[0m\u001b[0;34m\u001b[0m\u001b[0m\n\u001b[0m",
      "\u001b[0;31mTypeError\u001b[0m: unsupported operand type(s) for +: 'int' and 'str'"
     ]
    }
   ],
   "source": [
    "# Type Error\n",
    "\n",
    "6 + 'a'"
   ]
  },
  {
   "cell_type": "code",
   "execution_count": 43,
   "metadata": {},
   "outputs": [
    {
     "ename": "IndexError",
     "evalue": "list index out of range",
     "output_type": "error",
     "traceback": [
      "\u001b[0;31m---------------------------------------------------------------------------\u001b[0m",
      "\u001b[0;31mIndexError\u001b[0m                                Traceback (most recent call last)",
      "\u001b[0;32m<ipython-input-43-073df8ea7270>\u001b[0m in \u001b[0;36m<module>\u001b[0;34m\u001b[0m\n\u001b[1;32m      1\u001b[0m \u001b[0;31m# IndexError\u001b[0m\u001b[0;34m\u001b[0m\u001b[0;34m\u001b[0m\u001b[0;34m\u001b[0m\u001b[0m\n\u001b[1;32m      2\u001b[0m \u001b[0ml\u001b[0m \u001b[0;34m=\u001b[0m \u001b[0mlist\u001b[0m\u001b[0;34m(\u001b[0m\u001b[0mrange\u001b[0m\u001b[0;34m(\u001b[0m\u001b[0;36m10\u001b[0m\u001b[0;34m)\u001b[0m\u001b[0;34m)\u001b[0m\u001b[0;34m\u001b[0m\u001b[0;34m\u001b[0m\u001b[0m\n\u001b[0;32m----> 3\u001b[0;31m \u001b[0ml\u001b[0m\u001b[0;34m[\u001b[0m\u001b[0;36m12\u001b[0m\u001b[0;34m]\u001b[0m\u001b[0;34m\u001b[0m\u001b[0;34m\u001b[0m\u001b[0m\n\u001b[0m",
      "\u001b[0;31mIndexError\u001b[0m: list index out of range"
     ]
    }
   ],
   "source": [
    "# IndexError\n",
    "\n",
    "l = list(range(10))\n",
    "l[12]"
   ]
  },
  {
   "cell_type": "code",
   "execution_count": 70,
   "metadata": {},
   "outputs": [
    {
     "ename": "ValueError",
     "evalue": "math domain error",
     "output_type": "error",
     "traceback": [
      "\u001b[0;31m---------------------------------------------------------------------------\u001b[0m",
      "\u001b[0;31mValueError\u001b[0m                                Traceback (most recent call last)",
      "\u001b[0;32m<ipython-input-70-2195ae5b0aad>\u001b[0m in \u001b[0;36m<module>\u001b[0;34m\u001b[0m\n\u001b[1;32m      1\u001b[0m \u001b[0;31m# ValueError\u001b[0m\u001b[0;34m\u001b[0m\u001b[0;34m\u001b[0m\u001b[0;34m\u001b[0m\u001b[0m\n\u001b[1;32m      2\u001b[0m \u001b[0;34m\u001b[0m\u001b[0m\n\u001b[0;32m----> 3\u001b[0;31m \u001b[0mmath\u001b[0m\u001b[0;34m.\u001b[0m\u001b[0msqrt\u001b[0m\u001b[0;34m(\u001b[0m\u001b[0;34m-\u001b[0m\u001b[0;36m1.0\u001b[0m\u001b[0;34m)\u001b[0m\u001b[0;34m\u001b[0m\u001b[0;34m\u001b[0m\u001b[0m\n\u001b[0m",
      "\u001b[0;31mValueError\u001b[0m: math domain error"
     ]
    }
   ],
   "source": [
    "# ValueError\n",
    "\n",
    "math.sqrt(-1.0)"
   ]
  },
  {
   "cell_type": "code",
   "execution_count": 46,
   "metadata": {},
   "outputs": [
    {
     "ename": "NameError",
     "evalue": "name 'x' is not defined",
     "output_type": "error",
     "traceback": [
      "\u001b[0;31m---------------------------------------------------------------------------\u001b[0m",
      "\u001b[0;31mNameError\u001b[0m                                 Traceback (most recent call last)",
      "\u001b[0;32m<ipython-input-46-5d89920ee522>\u001b[0m in \u001b[0;36m<module>\u001b[0;34m\u001b[0m\n\u001b[1;32m      1\u001b[0m \u001b[0;31m# NameError\u001b[0m\u001b[0;34m\u001b[0m\u001b[0;34m\u001b[0m\u001b[0;34m\u001b[0m\u001b[0m\n\u001b[1;32m      2\u001b[0m \u001b[0;34m\u001b[0m\u001b[0m\n\u001b[0;32m----> 3\u001b[0;31m \u001b[0mprint\u001b[0m\u001b[0;34m(\u001b[0m\u001b[0mx\u001b[0m\u001b[0;34m)\u001b[0m\u001b[0;34m\u001b[0m\u001b[0;34m\u001b[0m\u001b[0m\n\u001b[0m",
      "\u001b[0;31mNameError\u001b[0m: name 'x' is not defined"
     ]
    }
   ],
   "source": [
    "# NameError\n",
    "\n",
    "print(x)"
   ]
  },
  {
   "cell_type": "code",
   "execution_count": 47,
   "metadata": {},
   "outputs": [
    {
     "ename": "FileNotFoundError",
     "evalue": "[Errno 2] No such file or directory: 'error.txt'",
     "output_type": "error",
     "traceback": [
      "\u001b[0;31m---------------------------------------------------------------------------\u001b[0m",
      "\u001b[0;31mFileNotFoundError\u001b[0m                         Traceback (most recent call last)",
      "\u001b[0;32m<ipython-input-47-65a9fcd9a838>\u001b[0m in \u001b[0;36m<module>\u001b[0;34m\u001b[0m\n\u001b[1;32m      1\u001b[0m \u001b[0;31m#\u001b[0m\u001b[0;34m\u001b[0m\u001b[0;34m\u001b[0m\u001b[0;34m\u001b[0m\u001b[0m\n\u001b[1;32m      2\u001b[0m \u001b[0;34m\u001b[0m\u001b[0m\n\u001b[0;32m----> 3\u001b[0;31m \u001b[0mopen\u001b[0m\u001b[0;34m(\u001b[0m\u001b[0;34m'error.txt'\u001b[0m\u001b[0;34m)\u001b[0m\u001b[0;34m\u001b[0m\u001b[0;34m\u001b[0m\u001b[0m\n\u001b[0m",
      "\u001b[0;31mFileNotFoundError\u001b[0m: [Errno 2] No such file or directory: 'error.txt'"
     ]
    }
   ],
   "source": [
    "# FileNotFoundError\n",
    "\n",
    "open('error.txt')"
   ]
  },
  {
   "cell_type": "markdown",
   "metadata": {},
   "source": [
    "---"
   ]
  },
  {
   "cell_type": "markdown",
   "metadata": {},
   "source": [
    "### Question 8 - Character Frequency List"
   ]
  },
  {
   "cell_type": "code",
   "execution_count": 64,
   "metadata": {},
   "outputs": [],
   "source": [
    "def frequencies(str):\n",
    "    \"\"\"\n",
    "    :param str: string for char freq count\n",
    "    :return: character freq count list\n",
    "    \"\"\"\n",
    "    freq_list = [0] * 26\n",
    "\n",
    "    for char in str:\n",
    "        if 97 <= ord(char) <= 122:                     # Ref - https://docs.python.org/3.7/library/functions.html#ord - to convert string to int(ASCII)\n",
    "            freq_list[ord(char) - 97] += 1\n",
    "\n",
    "    return freq_list"
   ]
  },
  {
   "cell_type": "code",
   "execution_count": 65,
   "metadata": {},
   "outputs": [
    {
     "data": {
      "text/plain": [
       "[1, 1, 1, 3, 5, 1, 1, 2, 1, 0, 1, 0, 1, 2, 4, 0, 1, 2, 0, 2, 1, 0, 1, 1, 0, 0]"
      ]
     },
     "execution_count": 65,
     "metadata": {},
     "output_type": "execute_result"
    }
   ],
   "source": [
    "frequencies('The quick red fox got bored and went home.')"
   ]
  },
  {
   "cell_type": "code",
   "execution_count": 66,
   "metadata": {},
   "outputs": [
    {
     "data": {
      "text/plain": [
       "[1, 0, 0, 0, 1, 0, 0, 0, 0, 0, 0, 1, 0, 0, 0, 2, 0, 0, 0, 0, 0, 0, 0, 0, 0, 0]"
      ]
     },
     "execution_count": 66,
     "metadata": {},
     "output_type": "execute_result"
    }
   ],
   "source": [
    "frequencies('apple')"
   ]
  },
  {
   "cell_type": "markdown",
   "metadata": {},
   "source": [
    "---"
   ]
  },
  {
   "cell_type": "markdown",
   "metadata": {},
   "source": [
    "### Question 9 - The Sieve of Erastophenes Algo"
   ]
  },
  {
   "cell_type": "code",
   "execution_count": 57,
   "metadata": {},
   "outputs": [],
   "source": [
    "def sieve(n):\n",
    "    \"\"\"\n",
    "    The Sieve of Erastophenes algorithm\n",
    "    :param n: number\n",
    "    :return: list of prime numbers till n\n",
    "    \"\"\"\n",
    "    l = list(range(2, n+1))\n",
    "    prime_l = []\n",
    "\n",
    "    while len(l) > 0:\n",
    "        num = l[0]\n",
    "        prime_l.append(num)\n",
    "\n",
    "        # remove multiples of num from l\n",
    "        multiple = num\n",
    "        while multiple <= n:\n",
    "            try:\n",
    "                l.remove(multiple)\n",
    "            except ValueError:\n",
    "                pass\n",
    "            multiple += num\n",
    "    return prime_l\n"
   ]
  },
  {
   "cell_type": "code",
   "execution_count": 58,
   "metadata": {},
   "outputs": [
    {
     "data": {
      "text/plain": [
       "[2, 3, 5, 7, 11, 13, 17, 19, 23, 29, 31, 37, 41, 43, 47, 53]"
      ]
     },
     "execution_count": 58,
     "metadata": {},
     "output_type": "execute_result"
    }
   ],
   "source": [
    "sieve(56)"
   ]
  },
  {
   "cell_type": "code",
   "execution_count": 60,
   "metadata": {},
   "outputs": [
    {
     "name": "stdout",
     "output_type": "stream",
     "text": [
      "[2, 3, 5, 7, 11, 13, 17, 19, 23, 29, 31, 37, 41, 43, 47, 53, 59, 61, 67, 71, 73, 79, 83, 89, 97, 101, 103, 107, 109, 113, 127, 131, 137, 139, 149, 151, 157, 163, 167, 173, 179, 181, 191, 193, 197, 199, 211, 223, 227, 229, 233, 239, 241, 251, 257, 263, 269, 271, 277, 281, 283, 293, 307, 311, 313, 317, 331, 337, 347, 349, 353, 359, 367]\n"
     ]
    }
   ],
   "source": [
    "print(sieve(368))"
   ]
  },
  {
   "cell_type": "code",
   "execution_count": 61,
   "metadata": {},
   "outputs": [
    {
     "data": {
      "text/plain": [
       "[2, 3, 5, 7, 11, 13, 17, 19, 23, 29, 31]"
      ]
     },
     "execution_count": 61,
     "metadata": {},
     "output_type": "execute_result"
    }
   ],
   "source": [
    "sieve(32)"
   ]
  },
  {
   "cell_type": "markdown",
   "metadata": {},
   "source": [
    "---"
   ]
  },
  {
   "cell_type": "markdown",
   "metadata": {},
   "source": [
    "### Question 10 - Triangle Area"
   ]
  },
  {
   "cell_type": "code",
   "execution_count": 67,
   "metadata": {},
   "outputs": [],
   "source": [
    "def triangele_area(a, b, c):\n",
    "    \"\"\"\n",
    "    Calculates the area of triangle\n",
    "    :param a,b,c: three sides of a triangle   \n",
    "    :return: Area\n",
    "    \"\"\"\n",
    "    s = (a + b + c)/2\n",
    "    return math.sqrt(s * (s-a) * (s-b) * (s-c))"
   ]
  },
  {
   "cell_type": "code",
   "execution_count": 68,
   "metadata": {},
   "outputs": [
    {
     "data": {
      "text/plain": [
       "1.7320508075688772"
      ]
     },
     "execution_count": 68,
     "metadata": {},
     "output_type": "execute_result"
    }
   ],
   "source": [
    "triangele_area(2,2,2)"
   ]
  }
 ],
 "metadata": {
  "kernelspec": {
   "display_name": "Python 3",
   "language": "python",
   "name": "python3"
  },
  "language_info": {
   "codemirror_mode": {
    "name": "ipython",
    "version": 3
   },
   "file_extension": ".py",
   "mimetype": "text/x-python",
   "name": "python",
   "nbconvert_exporter": "python",
   "pygments_lexer": "ipython3",
   "version": "3.7.6"
  }
 },
 "nbformat": 4,
 "nbformat_minor": 4
}
